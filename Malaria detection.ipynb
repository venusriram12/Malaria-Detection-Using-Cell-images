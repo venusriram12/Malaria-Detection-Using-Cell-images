{
 "cells": [
  {
   "cell_type": "code",
   "execution_count": 1,
   "metadata": {},
   "outputs": [],
   "source": [
    "\n",
    "from tensorflow.keras.layers import Input, Lambda, Dense, Flatten,Conv2D\n",
    "from tensorflow.keras.models import Model\n",
    "from tensorflow.keras.applications.vgg19 import VGG19\n",
    "from tensorflow.keras.applications.resnet50 import preprocess_input\n",
    "from tensorflow.keras.preprocessing import image\n",
    "from tensorflow.keras.preprocessing.image import ImageDataGenerator,load_img\n",
    "from tensorflow.keras.models import Sequential\n",
    "import numpy as np\n",
    "from glob import glob\n",
    "import matplotlib.pyplot as plt"
   ]
  },
  {
   "cell_type": "code",
   "execution_count": 2,
   "metadata": {},
   "outputs": [],
   "source": [
    "IMAGE_SIZE = [224, 224]\n",
    "\n",
    "train_path = 'Train'\n",
    "valid_path = 'Test'"
   ]
  },
  {
   "cell_type": "code",
   "execution_count": 3,
   "metadata": {},
   "outputs": [],
   "source": [
    "mobilnet = VGG19(input_shape=IMAGE_SIZE + [3], weights='imagenet', include_top=False)"
   ]
  },
  {
   "cell_type": "code",
   "execution_count": 4,
   "metadata": {},
   "outputs": [],
   "source": [
    "for layer in mobilnet.layers:\n",
    "    layer.trainable = False"
   ]
  },
  {
   "cell_type": "code",
   "execution_count": 5,
   "metadata": {},
   "outputs": [],
   "source": [
    "folders = glob('Train/*')"
   ]
  },
  {
   "cell_type": "code",
   "execution_count": 6,
   "metadata": {},
   "outputs": [
    {
     "data": {
      "text/plain": [
       "['Train\\\\Parasite', 'Train\\\\Uninfected']"
      ]
     },
     "execution_count": 6,
     "metadata": {},
     "output_type": "execute_result"
    }
   ],
   "source": [
    "folders"
   ]
  },
  {
   "cell_type": "code",
   "execution_count": 7,
   "metadata": {},
   "outputs": [],
   "source": [
    "x = Flatten()(mobilnet.output)"
   ]
  },
  {
   "cell_type": "code",
   "execution_count": 8,
   "metadata": {},
   "outputs": [],
   "source": [
    "prediction = Dense(len(folders), activation='softmax')(x)\n",
    "\n",
    "# create a model object\n",
    "model = Model(inputs=mobilnet.input, outputs=prediction)"
   ]
  },
  {
   "cell_type": "code",
   "execution_count": 9,
   "metadata": {},
   "outputs": [
    {
     "name": "stdout",
     "output_type": "stream",
     "text": [
      "Model: \"functional_1\"\n",
      "_________________________________________________________________\n",
      "Layer (type)                 Output Shape              Param #   \n",
      "=================================================================\n",
      "input_1 (InputLayer)         [(None, 224, 224, 3)]     0         \n",
      "_________________________________________________________________\n",
      "block1_conv1 (Conv2D)        (None, 224, 224, 64)      1792      \n",
      "_________________________________________________________________\n",
      "block1_conv2 (Conv2D)        (None, 224, 224, 64)      36928     \n",
      "_________________________________________________________________\n",
      "block1_pool (MaxPooling2D)   (None, 112, 112, 64)      0         \n",
      "_________________________________________________________________\n",
      "block2_conv1 (Conv2D)        (None, 112, 112, 128)     73856     \n",
      "_________________________________________________________________\n",
      "block2_conv2 (Conv2D)        (None, 112, 112, 128)     147584    \n",
      "_________________________________________________________________\n",
      "block2_pool (MaxPooling2D)   (None, 56, 56, 128)       0         \n",
      "_________________________________________________________________\n",
      "block3_conv1 (Conv2D)        (None, 56, 56, 256)       295168    \n",
      "_________________________________________________________________\n",
      "block3_conv2 (Conv2D)        (None, 56, 56, 256)       590080    \n",
      "_________________________________________________________________\n",
      "block3_conv3 (Conv2D)        (None, 56, 56, 256)       590080    \n",
      "_________________________________________________________________\n",
      "block3_conv4 (Conv2D)        (None, 56, 56, 256)       590080    \n",
      "_________________________________________________________________\n",
      "block3_pool (MaxPooling2D)   (None, 28, 28, 256)       0         \n",
      "_________________________________________________________________\n",
      "block4_conv1 (Conv2D)        (None, 28, 28, 512)       1180160   \n",
      "_________________________________________________________________\n",
      "block4_conv2 (Conv2D)        (None, 28, 28, 512)       2359808   \n",
      "_________________________________________________________________\n",
      "block4_conv3 (Conv2D)        (None, 28, 28, 512)       2359808   \n",
      "_________________________________________________________________\n",
      "block4_conv4 (Conv2D)        (None, 28, 28, 512)       2359808   \n",
      "_________________________________________________________________\n",
      "block4_pool (MaxPooling2D)   (None, 14, 14, 512)       0         \n",
      "_________________________________________________________________\n",
      "block5_conv1 (Conv2D)        (None, 14, 14, 512)       2359808   \n",
      "_________________________________________________________________\n",
      "block5_conv2 (Conv2D)        (None, 14, 14, 512)       2359808   \n",
      "_________________________________________________________________\n",
      "block5_conv3 (Conv2D)        (None, 14, 14, 512)       2359808   \n",
      "_________________________________________________________________\n",
      "block5_conv4 (Conv2D)        (None, 14, 14, 512)       2359808   \n",
      "_________________________________________________________________\n",
      "block5_pool (MaxPooling2D)   (None, 7, 7, 512)         0         \n",
      "_________________________________________________________________\n",
      "flatten (Flatten)            (None, 25088)             0         \n",
      "_________________________________________________________________\n",
      "dense (Dense)                (None, 2)                 50178     \n",
      "=================================================================\n",
      "Total params: 20,074,562\n",
      "Trainable params: 50,178\n",
      "Non-trainable params: 20,024,384\n",
      "_________________________________________________________________\n"
     ]
    }
   ],
   "source": [
    "model.summary()"
   ]
  },
  {
   "cell_type": "code",
   "execution_count": 10,
   "metadata": {},
   "outputs": [],
   "source": [
    "from tensorflow.keras.layers import MaxPooling2D"
   ]
  },
  {
   "cell_type": "code",
   "execution_count": 11,
   "metadata": {},
   "outputs": [
    {
     "name": "stdout",
     "output_type": "stream",
     "text": [
      "Model: \"sequential\"\n",
      "_________________________________________________________________\n",
      "Layer (type)                 Output Shape              Param #   \n",
      "=================================================================\n",
      "conv2d (Conv2D)              (None, 224, 224, 16)      208       \n",
      "_________________________________________________________________\n",
      "max_pooling2d (MaxPooling2D) (None, 112, 112, 16)      0         \n",
      "_________________________________________________________________\n",
      "conv2d_1 (Conv2D)            (None, 112, 112, 32)      2080      \n",
      "_________________________________________________________________\n",
      "max_pooling2d_1 (MaxPooling2 (None, 56, 56, 32)        0         \n",
      "_________________________________________________________________\n",
      "conv2d_2 (Conv2D)            (None, 56, 56, 64)        8256      \n",
      "_________________________________________________________________\n",
      "max_pooling2d_2 (MaxPooling2 (None, 28, 28, 64)        0         \n",
      "_________________________________________________________________\n",
      "flatten_1 (Flatten)          (None, 50176)             0         \n",
      "_________________________________________________________________\n",
      "dense_1 (Dense)              (None, 500)               25088500  \n",
      "_________________________________________________________________\n",
      "dense_2 (Dense)              (None, 2)                 1002      \n",
      "=================================================================\n",
      "Total params: 25,100,046\n",
      "Trainable params: 25,100,046\n",
      "Non-trainable params: 0\n",
      "_________________________________________________________________\n"
     ]
    }
   ],
   "source": [
    "\n",
    "### Create Model from scratch using CNN\n",
    "model=Sequential()\n",
    "model.add(Conv2D(filters=16,kernel_size=2,padding=\"same\",activation=\"relu\",input_shape=(224,224,3)))\n",
    "model.add(MaxPooling2D(pool_size=2))\n",
    "model.add(Conv2D(filters=32,kernel_size=2,padding=\"same\",activation =\"relu\"))\n",
    "model.add(MaxPooling2D(pool_size=2))\n",
    "model.add(Conv2D(filters=64,kernel_size=2,padding=\"same\",activation=\"relu\"))\n",
    "model.add(MaxPooling2D(pool_size=2))\n",
    "model.add(Flatten())\n",
    "model.add(Dense(500,activation=\"relu\"))\n",
    "model.add(Dense(2,activation=\"softmax\"))\n",
    "model.summary()"
   ]
  },
  {
   "cell_type": "code",
   "execution_count": 12,
   "metadata": {},
   "outputs": [],
   "source": [
    "model.compile(\n",
    "  loss='categorical_crossentropy',\n",
    "  optimizer='adam',\n",
    "  metrics=['accuracy']\n",
    ")"
   ]
  },
  {
   "cell_type": "code",
   "execution_count": 13,
   "metadata": {},
   "outputs": [],
   "source": [
    "from tensorflow.keras.preprocessing.image import ImageDataGenerator\n",
    "\n",
    "train_datagen = ImageDataGenerator(rescale = 1./255,\n",
    "                                   shear_range = 0.2,\n",
    "                                   zoom_range = 0.2,\n",
    "                                   horizontal_flip = True)\n",
    "\n",
    "test_datagen = ImageDataGenerator(rescale = 1./255)"
   ]
  },
  {
   "cell_type": "code",
   "execution_count": 14,
   "metadata": {},
   "outputs": [
    {
     "name": "stdout",
     "output_type": "stream",
     "text": [
      "Found 416 images belonging to 2 classes.\n"
     ]
    }
   ],
   "source": [
    "training_set = train_datagen.flow_from_directory('Train',\n",
    "                                                 target_size = (224, 224),\n",
    "                                                 batch_size = 32,\n",
    "                                                 class_mode = 'categorical')"
   ]
  },
  {
   "cell_type": "code",
   "execution_count": 30,
   "metadata": {},
   "outputs": [
    {
     "data": {
      "text/plain": [
       "<tensorflow.python.keras.preprocessing.image.DirectoryIterator at 0x1a786059340>"
      ]
     },
     "execution_count": 30,
     "metadata": {},
     "output_type": "execute_result"
    }
   ],
   "source": [
    "training_set"
   ]
  },
  {
   "cell_type": "code",
   "execution_count": 15,
   "metadata": {},
   "outputs": [
    {
     "name": "stdout",
     "output_type": "stream",
     "text": [
      "Found 134 images belonging to 2 classes.\n"
     ]
    }
   ],
   "source": [
    "test_set = test_datagen.flow_from_directory('Test',\n",
    "                                            target_size = (224, 224),\n",
    "                                            batch_size = 32,\n",
    "                                            class_mode = 'categorical')"
   ]
  },
  {
   "cell_type": "code",
   "execution_count": 16,
   "metadata": {},
   "outputs": [
    {
     "name": "stdout",
     "output_type": "stream",
     "text": [
      "WARNING:tensorflow:From <ipython-input-16-070b10e8c207>:1: Model.fit_generator (from tensorflow.python.keras.engine.training) is deprecated and will be removed in a future version.\n",
      "Instructions for updating:\n",
      "Please use Model.fit, which supports generators.\n",
      "Epoch 1/50\n",
      "13/13 [==============================] - 15s 1s/step - loss: 2.4803 - accuracy: 0.5048 - val_loss: 0.6578 - val_accuracy: 0.6791\n",
      "Epoch 2/50\n",
      "13/13 [==============================] - 14s 1s/step - loss: 0.6763 - accuracy: 0.5385 - val_loss: 0.6715 - val_accuracy: 0.6716\n",
      "Epoch 3/50\n",
      "13/13 [==============================] - 15s 1s/step - loss: 0.6300 - accuracy: 0.6562 - val_loss: 0.6871 - val_accuracy: 0.6343\n",
      "Epoch 4/50\n",
      "13/13 [==============================] - 15s 1s/step - loss: 0.5578 - accuracy: 0.7260 - val_loss: 0.7326 - val_accuracy: 0.5224\n",
      "Epoch 5/50\n",
      "13/13 [==============================] - 15s 1s/step - loss: 0.5560 - accuracy: 0.6971 - val_loss: 0.9230 - val_accuracy: 0.3657\n",
      "Epoch 6/50\n",
      "13/13 [==============================] - 14s 1s/step - loss: 0.4609 - accuracy: 0.7716 - val_loss: 1.1453 - val_accuracy: 0.3433\n",
      "Epoch 7/50\n",
      "13/13 [==============================] - 14s 1s/step - loss: 0.4512 - accuracy: 0.7620 - val_loss: 0.7706 - val_accuracy: 0.4627\n",
      "Epoch 8/50\n",
      "13/13 [==============================] - 14s 1s/step - loss: 0.4133 - accuracy: 0.8005 - val_loss: 0.9422 - val_accuracy: 0.3731\n",
      "Epoch 9/50\n",
      "13/13 [==============================] - 15s 1s/step - loss: 0.3906 - accuracy: 0.8053 - val_loss: 1.0763 - val_accuracy: 0.4030\n",
      "Epoch 10/50\n",
      "13/13 [==============================] - 16s 1s/step - loss: 0.3840 - accuracy: 0.8125 - val_loss: 1.2924 - val_accuracy: 0.3731\n",
      "Epoch 11/50\n",
      "13/13 [==============================] - 14s 1s/step - loss: 0.3873 - accuracy: 0.8269 - val_loss: 0.8566 - val_accuracy: 0.4478\n",
      "Epoch 12/50\n",
      "13/13 [==============================] - 14s 1s/step - loss: 0.3827 - accuracy: 0.8101 - val_loss: 0.8221 - val_accuracy: 0.5000\n",
      "Epoch 13/50\n",
      "13/13 [==============================] - 14s 1s/step - loss: 0.3280 - accuracy: 0.8702 - val_loss: 0.6855 - val_accuracy: 0.5597\n",
      "Epoch 14/50\n",
      "13/13 [==============================] - 14s 1s/step - loss: 0.2966 - accuracy: 0.8918 - val_loss: 0.8407 - val_accuracy: 0.5299\n",
      "Epoch 15/50\n",
      "13/13 [==============================] - 15s 1s/step - loss: 0.2626 - accuracy: 0.8894 - val_loss: 0.6496 - val_accuracy: 0.5896\n",
      "Epoch 16/50\n",
      "13/13 [==============================] - 16s 1s/step - loss: 0.2415 - accuracy: 0.8990 - val_loss: 0.7008 - val_accuracy: 0.6567\n",
      "Epoch 17/50\n",
      "13/13 [==============================] - 16s 1s/step - loss: 0.2557 - accuracy: 0.8942 - val_loss: 0.4999 - val_accuracy: 0.7164\n",
      "Epoch 18/50\n",
      "13/13 [==============================] - 16s 1s/step - loss: 0.2235 - accuracy: 0.9087 - val_loss: 0.4736 - val_accuracy: 0.7313\n",
      "Epoch 19/50\n",
      "13/13 [==============================] - 16s 1s/step - loss: 0.1994 - accuracy: 0.9255 - val_loss: 0.4403 - val_accuracy: 0.7836\n",
      "Epoch 20/50\n",
      "13/13 [==============================] - 17s 1s/step - loss: 0.1781 - accuracy: 0.9255 - val_loss: 0.4835 - val_accuracy: 0.7687\n",
      "Epoch 21/50\n",
      "13/13 [==============================] - 14s 1s/step - loss: 0.1714 - accuracy: 0.9399 - val_loss: 0.3799 - val_accuracy: 0.7985\n",
      "Epoch 22/50\n",
      "13/13 [==============================] - 14s 1s/step - loss: 0.1627 - accuracy: 0.9423 - val_loss: 0.4653 - val_accuracy: 0.7687\n",
      "Epoch 23/50\n",
      "13/13 [==============================] - 15s 1s/step - loss: 0.1705 - accuracy: 0.9303 - val_loss: 0.5148 - val_accuracy: 0.7463\n",
      "Epoch 24/50\n",
      "13/13 [==============================] - 14s 1s/step - loss: 0.1576 - accuracy: 0.9495 - val_loss: 0.4398 - val_accuracy: 0.7910\n",
      "Epoch 25/50\n",
      "13/13 [==============================] - 14s 1s/step - loss: 0.1103 - accuracy: 0.9519 - val_loss: 0.2612 - val_accuracy: 0.8731\n",
      "Epoch 26/50\n",
      "13/13 [==============================] - 14s 1s/step - loss: 0.0874 - accuracy: 0.9736 - val_loss: 0.2543 - val_accuracy: 0.8731\n",
      "Epoch 27/50\n",
      "13/13 [==============================] - 15s 1s/step - loss: 0.0938 - accuracy: 0.9663 - val_loss: 0.3481 - val_accuracy: 0.8507\n",
      "Epoch 28/50\n",
      "13/13 [==============================] - 14s 1s/step - loss: 0.0689 - accuracy: 0.9760 - val_loss: 0.2694 - val_accuracy: 0.8955\n",
      "Epoch 29/50\n",
      "13/13 [==============================] - 14s 1s/step - loss: 0.0952 - accuracy: 0.9688 - val_loss: 0.2104 - val_accuracy: 0.9179\n",
      "Epoch 30/50\n",
      "13/13 [==============================] - 14s 1s/step - loss: 0.0861 - accuracy: 0.9712 - val_loss: 0.6015 - val_accuracy: 0.8134\n",
      "Epoch 31/50\n",
      "13/13 [==============================] - 15s 1s/step - loss: 0.0964 - accuracy: 0.9712 - val_loss: 0.1835 - val_accuracy: 0.9328\n",
      "Epoch 32/50\n",
      "13/13 [==============================] - 15s 1s/step - loss: 0.0550 - accuracy: 0.9832 - val_loss: 0.2383 - val_accuracy: 0.8881\n",
      "Epoch 33/50\n",
      "13/13 [==============================] - 14s 1s/step - loss: 0.0666 - accuracy: 0.9808 - val_loss: 0.2186 - val_accuracy: 0.9104\n",
      "Epoch 34/50\n",
      "13/13 [==============================] - 15s 1s/step - loss: 0.0558 - accuracy: 0.9856 - val_loss: 0.1810 - val_accuracy: 0.9328\n",
      "Epoch 35/50\n",
      "13/13 [==============================] - 14s 1s/step - loss: 0.0470 - accuracy: 0.9784 - val_loss: 0.9883 - val_accuracy: 0.8134\n",
      "Epoch 36/50\n",
      "13/13 [==============================] - 14s 1s/step - loss: 0.1929 - accuracy: 0.9231 - val_loss: 0.5342 - val_accuracy: 0.7537\n",
      "Epoch 37/50\n",
      "13/13 [==============================] - 15s 1s/step - loss: 0.1754 - accuracy: 0.9303 - val_loss: 0.3366 - val_accuracy: 0.8582\n",
      "Epoch 38/50\n",
      "13/13 [==============================] - 15s 1s/step - loss: 0.1376 - accuracy: 0.9519 - val_loss: 0.2761 - val_accuracy: 0.8881\n",
      "Epoch 39/50\n",
      "13/13 [==============================] - 15s 1s/step - loss: 0.1004 - accuracy: 0.9591 - val_loss: 0.2323 - val_accuracy: 0.9254\n",
      "Epoch 40/50\n",
      "13/13 [==============================] - 14s 1s/step - loss: 0.0765 - accuracy: 0.9712 - val_loss: 0.2080 - val_accuracy: 0.9403\n",
      "Epoch 41/50\n",
      "13/13 [==============================] - 14s 1s/step - loss: 0.0588 - accuracy: 0.9856 - val_loss: 0.3035 - val_accuracy: 0.8881\n",
      "Epoch 42/50\n",
      "13/13 [==============================] - 14s 1s/step - loss: 0.0339 - accuracy: 0.9856 - val_loss: 0.2763 - val_accuracy: 0.9030\n",
      "Epoch 43/50\n",
      "13/13 [==============================] - 14s 1s/step - loss: 0.0478 - accuracy: 0.9880 - val_loss: 0.1532 - val_accuracy: 0.9627\n",
      "Epoch 44/50\n",
      "13/13 [==============================] - 15s 1s/step - loss: 0.0182 - accuracy: 0.9976 - val_loss: 0.2438 - val_accuracy: 0.9254\n",
      "Epoch 45/50\n",
      "13/13 [==============================] - 15s 1s/step - loss: 0.0371 - accuracy: 0.9880 - val_loss: 0.1633 - val_accuracy: 0.9552\n",
      "Epoch 46/50\n",
      "13/13 [==============================] - 14s 1s/step - loss: 0.0275 - accuracy: 0.9904 - val_loss: 0.2491 - val_accuracy: 0.9179\n",
      "Epoch 47/50\n",
      "13/13 [==============================] - 15s 1s/step - loss: 0.0258 - accuracy: 0.9904 - val_loss: 0.1933 - val_accuracy: 0.9328\n",
      "Epoch 48/50\n",
      "13/13 [==============================] - 14s 1s/step - loss: 0.0654 - accuracy: 0.9856 - val_loss: 0.2939 - val_accuracy: 0.8955\n",
      "Epoch 49/50\n",
      "13/13 [==============================] - 14s 1s/step - loss: 0.0757 - accuracy: 0.9712 - val_loss: 0.2286 - val_accuracy: 0.9179\n",
      "Epoch 50/50\n",
      "13/13 [==============================] - 14s 1s/step - loss: 0.0448 - accuracy: 0.9904 - val_loss: 0.2082 - val_accuracy: 0.9179\n"
     ]
    }
   ],
   "source": [
    "r = model.fit_generator(\n",
    "  training_set,\n",
    "  validation_data=test_set,\n",
    "  epochs=50,\n",
    "  steps_per_epoch=len(training_set),\n",
    "  validation_steps=len(test_set)\n",
    ")"
   ]
  },
  {
   "cell_type": "code",
   "execution_count": 17,
   "metadata": {},
   "outputs": [
    {
     "data": {
      "image/png": "[encoded data removed]",
      "text/plain": [
       "<Figure size 432x288 with 1 Axes>"
      ]
     },
     "metadata": {
      "needs_background": "light"
     },
     "output_type": "display_data"
    },
    {
     "data": {
      "image/png": "[encoded data removed]",
      "text/plain": [
       "<Figure size 432x288 with 1 Axes>"
      ]
     },
     "metadata": {
      "needs_background": "light"
     },
     "output_type": "display_data"
    },
    {
     "data": {
      "text/plain": [
       "<Figure size 432x288 with 0 Axes>"
      ]
     },
     "metadata": {},
     "output_type": "display_data"
    }
   ],
   "source": [
    "# plot the loss\n",
    "plt.plot(r.history['loss'], label='train loss')\n",
    "plt.plot(r.history['val_loss'], label='val loss')\n",
    "plt.legend()\n",
    "plt.show()\n",
    "plt.savefig('LossVal_loss')\n",
    "\n",
    "# plot the accuracy\n",
    "plt.plot(r.history['accuracy'], label='train acc')\n",
    "plt.plot(r.history['val_accuracy'], label='val acc')\n",
    "plt.legend()\n",
    "plt.show()\n",
    "plt.savefig('AccVal_acc')"
   ]
  },
  {
   "cell_type": "code",
   "execution_count": 18,
   "metadata": {},
   "outputs": [],
   "source": [
    "from tensorflow.keras.models import load_model\n",
    "\n",
    "model.save('model_vgg19.h5')"
   ]
  },
  {
   "cell_type": "code",
   "execution_count": 19,
   "metadata": {},
   "outputs": [],
   "source": [
    "y_pred = model.predict(test_set)"
   ]
  },
  {
   "cell_type": "code",
   "execution_count": 20,
   "metadata": {},
   "outputs": [],
   "source": [
    "import numpy as np\n",
    "y_pred = np.argmax(y_pred, axis=1)"
   ]
  },
  {
   "cell_type": "code",
   "execution_count": 21,
   "metadata": {},
   "outputs": [
    {
     "data": {
      "text/plain": [
       "array([1, 1, 0, 0, 0, 1, 1, 1, 1, 0, 0, 1, 0, 1, 1, 0, 0, 0, 0, 0, 1, 1,\n",
       "       0, 0, 1, 0, 0, 0, 1, 0, 0, 0, 1, 0, 1, 0, 0, 1, 0, 1, 0, 0, 1, 1,\n",
       "       0, 0, 0, 0, 0, 1, 0, 0, 1, 1, 1, 1, 0, 1, 1, 1, 0, 0, 1, 1, 1, 0,\n",
       "       1, 0, 1, 0, 0, 1, 1, 0, 0, 1, 0, 0, 0, 1, 1, 0, 1, 0, 0, 0, 1, 1,\n",
       "       1, 0, 0, 0, 0, 1, 1, 0, 0, 0, 1, 0, 0, 0, 0, 1, 0, 1, 0, 0, 1, 0,\n",
       "       0, 0, 0, 0, 0, 0, 1, 0, 0, 1, 0, 0, 0, 0, 1, 0, 0, 0, 1, 1, 1, 0,\n",
       "       1, 0], dtype=int64)"
      ]
     },
     "execution_count": 21,
     "metadata": {},
     "output_type": "execute_result"
    }
   ],
   "source": [
    "y_pred"
   ]
  },
  {
   "cell_type": "code",
   "execution_count": 22,
   "metadata": {},
   "outputs": [],
   "source": [
    "from tensorflow.keras.models import load_model\n",
    "from tensorflow.keras.preprocessing import image"
   ]
  },
  {
   "cell_type": "code",
   "execution_count": 23,
   "metadata": {},
   "outputs": [],
   "source": [
    "model=load_model('model_vgg19.h5')"
   ]
  },
  {
   "cell_type": "code",
   "execution_count": 24,
   "metadata": {},
   "outputs": [],
   "source": [
    "img=image.load_img('Test/Uninfected/C3thin_original_IMG_20150608_162922_cell_145.png',target_size=(224,224))"
   ]
  },
  {
   "cell_type": "code",
   "execution_count": 25,
   "metadata": {},
   "outputs": [
    {
     "data": {
      "text/plain": [
       "array([[[0., 0., 0.],\n",
       "        [0., 0., 0.],\n",
       "        [0., 0., 0.],\n",
       "        ...,\n",
       "        [0., 0., 0.],\n",
       "        [0., 0., 0.],\n",
       "        [0., 0., 0.]],\n",
       "\n",
       "       [[0., 0., 0.],\n",
       "        [0., 0., 0.],\n",
       "        [0., 0., 0.],\n",
       "        ...,\n",
       "        [0., 0., 0.],\n",
       "        [0., 0., 0.],\n",
       "        [0., 0., 0.]],\n",
       "\n",
       "       [[0., 0., 0.],\n",
       "        [0., 0., 0.],\n",
       "        [0., 0., 0.],\n",
       "        ...,\n",
       "        [0., 0., 0.],\n",
       "        [0., 0., 0.],\n",
       "        [0., 0., 0.]],\n",
       "\n",
       "       ...,\n",
       "\n",
       "       [[0., 0., 0.],\n",
       "        [0., 0., 0.],\n",
       "        [0., 0., 0.],\n",
       "        ...,\n",
       "        [0., 0., 0.],\n",
       "        [0., 0., 0.],\n",
       "        [0., 0., 0.]],\n",
       "\n",
       "       [[0., 0., 0.],\n",
       "        [0., 0., 0.],\n",
       "        [0., 0., 0.],\n",
       "        ...,\n",
       "        [0., 0., 0.],\n",
       "        [0., 0., 0.],\n",
       "        [0., 0., 0.]],\n",
       "\n",
       "       [[0., 0., 0.],\n",
       "        [0., 0., 0.],\n",
       "        [0., 0., 0.],\n",
       "        ...,\n",
       "        [0., 0., 0.],\n",
       "        [0., 0., 0.],\n",
       "        [0., 0., 0.]]], dtype=float32)"
      ]
     },
     "execution_count": 25,
     "metadata": {},
     "output_type": "execute_result"
    }
   ],
   "source": [
    "x=image.img_to_array(img)\n",
    "x"
   ]
  },
  {
   "cell_type": "code",
   "execution_count": 26,
   "metadata": {},
   "outputs": [],
   "source": [
    "x=x/255"
   ]
  },
  {
   "cell_type": "code",
   "execution_count": 27,
   "metadata": {},
   "outputs": [
    {
     "data": {
      "text/plain": [
       "(1, 224, 224, 3)"
      ]
     },
     "execution_count": 27,
     "metadata": {},
     "output_type": "execute_result"
    }
   ],
   "source": [
    "x=np.expand_dims(x,axis=0)\n",
    "img_data=preprocess_input(x)\n",
    "img_data.shape"
   ]
  },
  {
   "cell_type": "code",
   "execution_count": 28,
   "metadata": {},
   "outputs": [
    {
     "data": {
      "text/plain": [
       "array([[1., 0.]], dtype=float32)"
      ]
     },
     "execution_count": 28,
     "metadata": {},
     "output_type": "execute_result"
    }
   ],
   "source": [
    "model.predict(img_data)"
   ]
  },
  {
   "cell_type": "code",
   "execution_count": 29,
   "metadata": {},
   "outputs": [],
   "source": [
    "a=np.argmax(model.predict(img_data), axis=1)"
   ]
  },
  {
   "cell_type": "code",
   "execution_count": 33,
   "metadata": {},
   "outputs": [
    {
     "name": "stdout",
     "output_type": "stream",
     "text": [
      "UnInfected\n"
     ]
    }
   ],
   "source": [
    "if(a==1):\n",
    "    print(\"Parasite\")\n",
    "else:\n",
    "    print(\"UnInfected\")"
   ]
  },
  {
   "cell_type": "code",
   "execution_count": 32,
   "metadata": {},
   "outputs": [
    {
     "data": {
      "text/plain": [
       "{'Parasite': 0, 'Uninfected': 1}"
      ]
     },
     "execution_count": 32,
     "metadata": {},
     "output_type": "execute_result"
    }
   ],
   "source": [
    "class_dict = training_set.class_indices\n",
    "class_dict"
   ]
  },
  {
   "cell_type": "markdown",
   "metadata": {},
   "source": [
    "# Thank You"
   ]
  }
 ],
 "metadata": {
  "kernelspec": {
   "display_name": "Python 3",
   "language": "python",
   "name": "python3"
  },
  "language_info": {
   "codemirror_mode": {
    "name": "ipython",
    "version": 3
   },
   "file_extension": ".py",
   "mimetype": "text/x-python",
   "name": "python",
   "nbconvert_exporter": "python",
   "pygments_lexer": "ipython3",
   "version": "3.8.2"
  }
 },
 "nbformat": 4,
 "nbformat_minor": 4
}
